{
 "cells": [
  {
   "cell_type": "markdown",
   "id": "acb56050-4c8e-4d95-bca8-17be7d94303b",
   "metadata": {
    "tags": []
   },
   "source": [
    "# 用 Iris 建立 Logistic Regression PyTorch 版本"
   ]
  },
  {
   "cell_type": "code",
   "execution_count": 1,
   "id": "e5cbdc18-d5ec-45d7-ae8c-fbb17d449e22",
   "metadata": {},
   "outputs": [],
   "source": [
    "import torch\n",
    "import torch.nn as nn\n",
    "import torchvision.transforms as transforms\n",
    "import sklearn.datasets as datasets\n",
    "from torch.utils.data import Dataset, DataLoader\n",
    "import pandas as pd\n",
    "import numpy as np\n",
    "from torch.utils.data.sampler import SubsetRandomSampler\n",
    "import matplotlib.pyplot as plt"
   ]
  },
  {
   "cell_type": "code",
   "execution_count": 2,
   "id": "3a8e5e35-ab77-4fed-a7a8-2734e4a58f76",
   "metadata": {},
   "outputs": [],
   "source": [
    "class IrisDataset():\n",
    "    # data loading\n",
    "    def __init__(self):\n",
    "        iris = datasets.load_iris()\n",
    "        feature = pd.DataFrame(iris.data, columns=iris.feature_names)\n",
    "        target = pd.DataFrame(iris.target, columns=['target'])\n",
    "        iris_data = pd.concat([target, feature], axis=1)\n",
    "        # keep only Iris-Setosa and Iris-Versicolour classes\n",
    "        iris_data = iris_data[iris_data.target <= 1]\n",
    "        self.x = torch.from_numpy(np.array(iris_data)[:, 1:].astype(np.float32))\n",
    "        self.y = torch.from_numpy(np.array(iris_data)[:, [0]].astype(np.float32))\n",
    "        self.n_samples = self.x.shape[0]\n",
    "        \n",
    "    # working for indexing\n",
    "    def __getitem__(self, index):\n",
    "        \n",
    "        return self.x[index], self.y[index]\n",
    "\n",
    "    # return the length of our dataset\n",
    "    def __len__(self):\n",
    "        \n",
    "        return self.n_samples"
   ]
  },
  {
   "cell_type": "code",
   "execution_count": 3,
   "id": "f4a9ef1f-a9c6-4d3f-99c6-b725a35d7ff5",
   "metadata": {},
   "outputs": [],
   "source": [
    "dataset = IrisDataset()"
   ]
  },
  {
   "cell_type": "code",
   "execution_count": 4,
   "id": "a6e4f3d4-1afe-49ea-977d-fdb05a9c81c0",
   "metadata": {},
   "outputs": [],
   "source": [
    "# create data spliter\n",
    "def dataSplit(dataset, val_split=0.25, shuffle=False, random_seed=0):\n",
    "\n",
    "    dataset_size = len(dataset)\n",
    "    indices = list(range(dataset_size))\n",
    "    split = int(np.floor(val_split * dataset_size))\n",
    "    if shuffle:\n",
    "        np.random.seed(random_seed)\n",
    "        np.random.shuffle(indices)\n",
    "    \n",
    "    train_indices, val_indices = indices[split:], indices[:split]\n",
    "    train_sampler = SubsetRandomSampler(train_indices)\n",
    "    valid_sampler = SubsetRandomSampler(val_indices)\n",
    "\n",
    "    return train_sampler, valid_sampler"
   ]
  },
  {
   "cell_type": "code",
   "execution_count": 20,
   "id": "c717f806-8c6d-4c31-ad03-2ab8f0cd1745",
   "metadata": {},
   "outputs": [],
   "source": [
    "# base split parameters\n",
    "val_split = 0.25\n",
    "shuffle_dataset = True\n",
    "random_seed= 42\n",
    "batch_size = 5\n",
    "\n",
    "train_sampler, valid_sampler = dataSplit(dataset=dataset, val_split=val_split, shuffle=shuffle_dataset, random_seed=random_seed)\n",
    "\n",
    "train_loader = DataLoader(dataset, batch_size=batch_size, sampler=train_sampler)\n",
    "val_loader = DataLoader(dataset, batch_size=batch_size, sampler=valid_sampler)"
   ]
  },
  {
   "cell_type": "code",
   "execution_count": 21,
   "id": "7200662d-d018-4a96-816c-60ee9981424b",
   "metadata": {},
   "outputs": [],
   "source": [
    "# create nn model        \n",
    "class LogisticRegressionModel(nn.Module):\n",
    "    def __init__(self, input_size):\n",
    "        super(LogisticRegressionModel, self).__init__()\n",
    "        self.l1 = nn.Linear(input_size, 1)\n",
    "        \n",
    "        # activation function\n",
    "        self.sigmoid = nn.Sigmoid()        \n",
    "\n",
    "    def forward(self, x):\n",
    "        out = self.l1(x)\n",
    "        out = self.sigmoid(out)\n",
    "        return out  \n",
    "    \n",
    "input_size = 4\n",
    "model = LogisticRegressionModel(input_size)    \n",
    "\n",
    "learning_rate = 0.001\n",
    "criterion = nn.BCELoss()\n",
    "# adam algorithm\n",
    "optimizer = torch.optim.SGD(model.parameters(), lr=learning_rate)"
   ]
  },
  {
   "cell_type": "markdown",
   "id": "1dc11db7-1d07-48b0-966a-940872dab5a4",
   "metadata": {},
   "source": [
    "## 訓練模型"
   ]
  },
  {
   "cell_type": "code",
   "execution_count": 22,
   "id": "9595f2a1-ee33-4b1b-a450-9f5455ee0aaf",
   "metadata": {},
   "outputs": [],
   "source": [
    "loss_list = []\n",
    "num_epochs = 10\n",
    "for epoch in range(num_epochs):\n",
    "    for i, (datas, labels) in enumerate(train_loader):\n",
    "        \n",
    "        outputs = model(datas)\n",
    "\n",
    "        loss = criterion(outputs, labels)\n",
    "        loss_list.append(loss.item())\n",
    "        \n",
    "        optimizer.zero_grad()\n",
    "        loss.backward()\n",
    "        optimizer.step()"
   ]
  },
  {
   "cell_type": "code",
   "execution_count": 23,
   "id": "c5f3eb89-40bc-4c60-af4d-a41cde7b662c",
   "metadata": {},
   "outputs": [
    {
     "data": {
      "image/png": "[encoded data removed]",
      "text/plain": [
       "<Figure size 432x288 with 1 Axes>"
      ]
     },
     "metadata": {
      "needs_background": "light"
     },
     "output_type": "display_data"
    }
   ],
   "source": [
    "# 視覺化\n",
    "plt.plot(loss_list, 'r')\n",
    "plt.tight_layout()\n",
    "plt.grid('True', color='y')\n",
    "plt.xlabel(\"Epochs/Iterations\")\n",
    "plt.ylabel(\"Loss\")\n",
    "plt.show()"
   ]
  },
  {
   "cell_type": "markdown",
   "id": "96f704c9-661d-4f03-86c0-58599ea7a292",
   "metadata": {},
   "source": [
    "## 測試模型"
   ]
  },
  {
   "cell_type": "code",
   "execution_count": 44,
   "id": "f9742fa9-f338-41f7-9df3-db582bccfc10",
   "metadata": {},
   "outputs": [
    {
     "name": "stdout",
     "output_type": "stream",
     "text": [
      "accuracy = 56.0%\n"
     ]
    }
   ],
   "source": [
    "with torch.no_grad():\n",
    "    n_correct = 0\n",
    "    n_samples = 0\n",
    "    for datas, labels in val_loader:\n",
    "        outputs = model(datas)\n",
    "        _, predictions = torch.max(outputs, 1)\n",
    "        n_samples += labels.shape[0]\n",
    "        n_correct += (predictions == labels.reshape(-1)).sum().item()\n",
    "    acc = 100.0 * n_correct / n_samples\n",
    "    print(f'accuracy = {acc}%')"
   ]
  },
  {
   "cell_type": "code",
   "execution_count": null,
   "id": "a423cf59-fbcb-41ad-a856-ba2096667664",
   "metadata": {},
   "outputs": [],
   "source": []
  }
 ],
 "metadata": {
  "environment": {
   "kernel": "python3",
   "name": "pytorch-gpu.1-11.m93",
   "type": "gcloud",
   "uri": "gcr.io/deeplearning-platform-release/pytorch-gpu.1-11:m93"
  },
  "kernelspec": {
   "display_name": "Python 3 (ipykernel)",
   "language": "python",
   "name": "python3"
  },
  "language_info": {
   "codemirror_mode": {
    "name": "ipython",
    "version": 3
   },
   "file_extension": ".py",
   "mimetype": "text/x-python",
   "name": "python",
   "nbconvert_exporter": "python",
   "pygments_lexer": "ipython3",
   "version": "3.7.12"
  }
 },
 "nbformat": 4,
 "nbformat_minor": 5
}
